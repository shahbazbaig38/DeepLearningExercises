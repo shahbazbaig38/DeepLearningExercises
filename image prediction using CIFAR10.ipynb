{
  "nbformat": 4,
  "nbformat_minor": 0,
  "metadata": {
    "colab": {
      "provenance": []
    },
    "kernelspec": {
      "name": "python3",
      "display_name": "Python 3"
    },
    "language_info": {
      "name": "python"
    },
    "accelerator": "GPU",
    "gpuClass": "standard"
  },
  "cells": [
    {
      "cell_type": "markdown",
      "source": [
        "# CIFAR10"
      ],
      "metadata": {
        "id": "gmrlsCSKD930"
      }
    },
    {
      "cell_type": "code",
      "execution_count": null,
      "metadata": {
        "id": "Zh2KZMT5Dv5I"
      },
      "outputs": [],
      "source": [
        "import numpy as np\n",
        "import pandas as pd\n",
        "import matplotlib.pyplot as plt\n",
        "%matplotlib inline\n",
        "import seaborn as sns\n",
        "import keras\n",
        "from keras.datasets import cifar10\n",
        "from keras.models import Sequential\n",
        "from keras.layers import Dense, Conv2D, Flatten, Activation, MaxPooling2D, Dropout\n",
        "from keras.preprocessing.image import ImageDataGenerator"
      ]
    },
    {
      "cell_type": "code",
      "source": [
        "batch_size = 32  # The default batch size of keras.\n",
        "num_classes = 10  # Number of class for the dataset\n",
        "epochs = 50\n",
        "data_augmentation = False"
      ],
      "metadata": {
        "id": "3pZnLGz-EPFA"
      },
      "execution_count": null,
      "outputs": []
    },
    {
      "cell_type": "code",
      "source": [
        "# The data, split between train and test sets:\n",
        "(x_train, y_train), (x_test, y_test) = cifar10.load_data()\n",
        "print('x_train shape:', x_train.shape)\n",
        "print('y_train shape:', y_train.shape)\n",
        "print(x_train.shape[0], 'train samples')\n",
        "print(x_test.shape[0], 'test samples')"
      ],
      "metadata": {
        "colab": {
          "base_uri": "https://localhost:8080/"
        },
        "id": "wiTThdEUESWU",
        "outputId": "f8ae4a26-69bd-4aef-c29d-0e0ae3882b1f"
      },
      "execution_count": null,
      "outputs": [
        {
          "output_type": "stream",
          "name": "stdout",
          "text": [
            "Downloading data from https://www.cs.toronto.edu/~kriz/cifar-10-python.tar.gz\n",
            "170498071/170498071 [==============================] - 6s 0us/step\n",
            "x_train shape: (50000, 32, 32, 3)\n",
            "y_train shape: (50000, 1)\n",
            "50000 train samples\n",
            "10000 test samples\n"
          ]
        }
      ]
    },
    {
      "cell_type": "code",
      "source": [
        "# Normalize the data. Before we need to connvert data type to float for computation.\n",
        "x_train = x_train.astype('float32')\n",
        "x_test = x_test.astype('float32')\n",
        "x_train /= 255\n",
        "x_test /= 255\n",
        "\n",
        "# Convert class vectors to binary class matrices. This is called one hot encoding.\n",
        "y_train = keras.utils.to_categorical(y_train, num_classes)\n",
        "y_test = keras.utils.to_categorical(y_test, num_classes)"
      ],
      "metadata": {
        "id": "3XNcmiqiEW0t"
      },
      "execution_count": null,
      "outputs": []
    },
    {
      "cell_type": "code",
      "source": [
        "#define the convnet\n",
        "elu_model1 = Sequential()\n",
        "elu_model1.add(Conv2D(32, (3, 3), padding='same',input_shape=x_train.shape[1:]))\n",
        "elu_model1.add(Activation('elu'))\n",
        "elu_model1.add(Conv2D(32, (3, 3)))\n",
        "elu_model1.add(Activation('elu'))\n",
        "elu_model1.add(MaxPooling2D(pool_size=(2, 2)))\n",
        "elu_model1.add(Dropout(0.25))\n",
        "elu_model1.add(Conv2D(64, (3, 3), padding='same'))\n",
        "elu_model1.add(Activation('elu'))\n",
        "elu_model1.add(Conv2D(64, (3, 3)))\n",
        "elu_model1.add(Activation('elu'))\n",
        "elu_model1.add(MaxPooling2D(pool_size=(2, 2)))\n",
        "elu_model1.add(Dropout(0.25))\n",
        "elu_model1.add(Flatten())\n",
        "elu_model1.add(Dense(512))\n",
        "elu_model1.add(Activation('elu'))\n",
        "elu_model1.add(Dropout(0.5))\n",
        "# a softmax classifier\n",
        "elu_model1.add(Dense(num_classes))\n",
        "elu_model1.add(Activation('softmax'))\n",
        "# initiate RMSprop optimizer\n",
        "opt = keras.optimizers.RMSprop(learning_rate=0.0001, decay=1e-6)\n",
        "\n",
        "# Let's train the model using RMSprop\n",
        "elu_model1.compile(loss='categorical_crossentropy',\n",
        "              optimizer=opt,\n",
        "              metrics=['accuracy'])\n",
        "elu_model1_history = None  # For recording the history of trainning process.\n",
        "if not data_augmentation:\n",
        "    print('Not using data augmentation.')\n",
        "    elu_model1_history = elu_model1.fit(x_train, y_train,\n",
        "              batch_size=batch_size,\n",
        "              epochs=epochs,\n",
        "              validation_data=(x_test, y_test),\n",
        "              shuffle=True)\n",
        "else:\n",
        "    print('Using real-time data augmentation.')\n",
        "    # This will do preprocessing and realtime data augmentation:\n",
        "    datagen = ImageDataGenerator(\n",
        "        featurewise_center=False,  # set input mean to 0 over the dataset\n",
        "        samplewise_center=False,  # set each sample mean to 0\n",
        "        featurewise_std_normalization=False,  # divide inputs by std of the dataset\n",
        "        samplewise_std_normalization=False,  # divide each input by its std\n",
        "        zca_whitening=False,  # apply ZCA whitening\n",
        "        zca_epsilon=1e-06,  # epsilon for ZCA whitening\n",
        "        rotation_range=0,  # randomly rotate images in the range (degrees, 0 to 180)\n",
        "        # randomly shift images horizontally (fraction of total width)\n",
        "        width_shift_range=0.1,\n",
        "        # randomly shift images vertically (fraction of total height)\n",
        "        height_shift_range=0.1,\n",
        "        shear_range=0.,  # set range for random shear\n",
        "        zoom_range=0.,  # set range for random zoom\n",
        "        channel_shift_range=0.,  # set range for random channel shifts\n",
        "        # set mode for filling points outside the input boundaries\n",
        "        fill_mode='nearest',\n",
        "        cval=0.,  # value used for fill_mode = \"constant\"\n",
        "        horizontal_flip=True,  # randomly flip images\n",
        "        vertical_flip=False,  # randomly flip images\n",
        "        # set rescaling factor (applied before any other transformation)\n",
        "        rescale=None,\n",
        "        # set function that will be applied on each input\n",
        "        preprocessing_function=None,\n",
        "        # image data format, either \"channels_first\" or \"channels_last\"\n",
        "        data_format=None,\n",
        "        # fraction of images reserved for validation (strictly between 0 and 1)\n",
        "        validation_split=0.0)\n",
        "\n",
        "    # Compute quantities required for feature-wise normalization\n",
        "    # (std, mean, and principal components if ZCA whitening is applied).\n",
        "    datagen.fit(x_train)\n",
        "\n",
        "    # Fit the model on the batches generated by datagen.flow().\n",
        "    elu_model1_history = elu_model1.fit_generator(datagen.flow(x_train, y_train,\n",
        "                                    batch_size=batch_size),\n",
        "                                    epochs=epochs,\n",
        "                                    validation_data=(x_test, y_test),\n",
        "                                    workers=4)"
      ],
      "metadata": {
        "colab": {
          "base_uri": "https://localhost:8080/"
        },
        "id": "nl9B9Mo8EfZu",
        "outputId": "5b733701-e3af-4a00-e651-ea34b9ba28ba"
      },
      "execution_count": null,
      "outputs": [
        {
          "output_type": "stream",
          "name": "stdout",
          "text": [
            "Not using data augmentation.\n",
            "Epoch 1/50\n",
            "1563/1563 [==============================] - 19s 7ms/step - loss: 1.6698 - accuracy: 0.4040 - val_loss: 1.4183 - val_accuracy: 0.5007\n",
            "Epoch 2/50\n",
            "1563/1563 [==============================] - 10s 7ms/step - loss: 1.3750 - accuracy: 0.5199 - val_loss: 1.2911 - val_accuracy: 0.5458\n",
            "Epoch 3/50\n",
            "1563/1563 [==============================] - 10s 6ms/step - loss: 1.2437 - accuracy: 0.5661 - val_loss: 1.2293 - val_accuracy: 0.5807\n",
            "Epoch 4/50\n",
            "1563/1563 [==============================] - 10s 6ms/step - loss: 1.1709 - accuracy: 0.5966 - val_loss: 1.1675 - val_accuracy: 0.5886\n",
            "Epoch 5/50\n",
            "1563/1563 [==============================] - 10s 6ms/step - loss: 1.1233 - accuracy: 0.6117 - val_loss: 1.0659 - val_accuracy: 0.6339\n",
            "Epoch 6/50\n",
            "1563/1563 [==============================] - 15s 9ms/step - loss: 1.0832 - accuracy: 0.6277 - val_loss: 1.0299 - val_accuracy: 0.6456\n",
            "Epoch 7/50\n",
            "1563/1563 [==============================] - 12s 8ms/step - loss: 1.0554 - accuracy: 0.6359 - val_loss: 1.0398 - val_accuracy: 0.6384\n",
            "Epoch 8/50\n",
            "1563/1563 [==============================] - 12s 8ms/step - loss: 1.0231 - accuracy: 0.6486 - val_loss: 1.0180 - val_accuracy: 0.6457\n",
            "Epoch 9/50\n",
            "1563/1563 [==============================] - 11s 7ms/step - loss: 1.0004 - accuracy: 0.6564 - val_loss: 0.9534 - val_accuracy: 0.6728\n",
            "Epoch 10/50\n",
            "1563/1563 [==============================] - 12s 7ms/step - loss: 0.9831 - accuracy: 0.6634 - val_loss: 0.9444 - val_accuracy: 0.6751\n",
            "Epoch 11/50\n",
            "1563/1563 [==============================] - 14s 9ms/step - loss: 0.9641 - accuracy: 0.6671 - val_loss: 0.9277 - val_accuracy: 0.6831\n",
            "Epoch 12/50\n",
            "1563/1563 [==============================] - 15s 10ms/step - loss: 0.9503 - accuracy: 0.6736 - val_loss: 0.9175 - val_accuracy: 0.6853\n",
            "Epoch 13/50\n",
            "1563/1563 [==============================] - 10s 7ms/step - loss: 0.9290 - accuracy: 0.6793 - val_loss: 0.8935 - val_accuracy: 0.6949\n",
            "Epoch 14/50\n",
            "1563/1563 [==============================] - 10s 6ms/step - loss: 0.9149 - accuracy: 0.6854 - val_loss: 0.8844 - val_accuracy: 0.6984\n",
            "Epoch 15/50\n",
            "1563/1563 [==============================] - 10s 6ms/step - loss: 0.8998 - accuracy: 0.6894 - val_loss: 0.8705 - val_accuracy: 0.7039\n",
            "Epoch 16/50\n",
            "1563/1563 [==============================] - 15s 10ms/step - loss: 0.8830 - accuracy: 0.6962 - val_loss: 0.8645 - val_accuracy: 0.7071\n",
            "Epoch 17/50\n",
            "1563/1563 [==============================] - 11s 7ms/step - loss: 0.8717 - accuracy: 0.6996 - val_loss: 0.8414 - val_accuracy: 0.7124\n",
            "Epoch 18/50\n",
            "1563/1563 [==============================] - 12s 8ms/step - loss: 0.8562 - accuracy: 0.7051 - val_loss: 0.8376 - val_accuracy: 0.7129\n",
            "Epoch 19/50\n",
            "1563/1563 [==============================] - 12s 8ms/step - loss: 0.8443 - accuracy: 0.7073 - val_loss: 0.8029 - val_accuracy: 0.7252\n",
            "Epoch 20/50\n",
            "1563/1563 [==============================] - 10s 6ms/step - loss: 0.8292 - accuracy: 0.7131 - val_loss: 0.8200 - val_accuracy: 0.7193\n",
            "Epoch 21/50\n",
            "1563/1563 [==============================] - 11s 7ms/step - loss: 0.8179 - accuracy: 0.7169 - val_loss: 0.7904 - val_accuracy: 0.7322\n",
            "Epoch 22/50\n",
            "1563/1563 [==============================] - 10s 6ms/step - loss: 0.8102 - accuracy: 0.7175 - val_loss: 0.8015 - val_accuracy: 0.7233\n",
            "Epoch 23/50\n",
            "1563/1563 [==============================] - 10s 7ms/step - loss: 0.7919 - accuracy: 0.7248 - val_loss: 0.7870 - val_accuracy: 0.7327\n",
            "Epoch 24/50\n",
            "1563/1563 [==============================] - 11s 7ms/step - loss: 0.7822 - accuracy: 0.7295 - val_loss: 0.7786 - val_accuracy: 0.7362\n",
            "Epoch 25/50\n",
            "1563/1563 [==============================] - 11s 7ms/step - loss: 0.7690 - accuracy: 0.7341 - val_loss: 0.7594 - val_accuracy: 0.7419\n",
            "Epoch 26/50\n",
            "1563/1563 [==============================] - 11s 7ms/step - loss: 0.7547 - accuracy: 0.7379 - val_loss: 0.7429 - val_accuracy: 0.7475\n",
            "Epoch 27/50\n",
            "1563/1563 [==============================] - 10s 6ms/step - loss: 0.7439 - accuracy: 0.7419 - val_loss: 0.7359 - val_accuracy: 0.7500\n",
            "Epoch 28/50\n",
            "1563/1563 [==============================] - 10s 7ms/step - loss: 0.7274 - accuracy: 0.7470 - val_loss: 0.7190 - val_accuracy: 0.7531\n",
            "Epoch 29/50\n",
            "1563/1563 [==============================] - 10s 6ms/step - loss: 0.7141 - accuracy: 0.7536 - val_loss: 0.7295 - val_accuracy: 0.7545\n",
            "Epoch 30/50\n",
            "1563/1563 [==============================] - 10s 6ms/step - loss: 0.6982 - accuracy: 0.7576 - val_loss: 0.7267 - val_accuracy: 0.7532\n",
            "Epoch 31/50\n",
            "1563/1563 [==============================] - 10s 7ms/step - loss: 0.6900 - accuracy: 0.7600 - val_loss: 0.7014 - val_accuracy: 0.7620\n",
            "Epoch 32/50\n",
            "1563/1563 [==============================] - 9s 6ms/step - loss: 0.6777 - accuracy: 0.7653 - val_loss: 0.7054 - val_accuracy: 0.7594\n",
            "Epoch 33/50\n",
            "1563/1563 [==============================] - 10s 6ms/step - loss: 0.6631 - accuracy: 0.7709 - val_loss: 0.6829 - val_accuracy: 0.7693\n",
            "Epoch 34/50\n",
            "1563/1563 [==============================] - 12s 8ms/step - loss: 0.6510 - accuracy: 0.7738 - val_loss: 0.6830 - val_accuracy: 0.7703\n",
            "Epoch 35/50\n",
            "1563/1563 [==============================] - 10s 6ms/step - loss: 0.6420 - accuracy: 0.7772 - val_loss: 0.6736 - val_accuracy: 0.7737\n",
            "Epoch 36/50\n",
            "1563/1563 [==============================] - 9s 6ms/step - loss: 0.6261 - accuracy: 0.7810 - val_loss: 0.6756 - val_accuracy: 0.7734\n",
            "Epoch 37/50\n",
            "1563/1563 [==============================] - 10s 6ms/step - loss: 0.6152 - accuracy: 0.7867 - val_loss: 0.6752 - val_accuracy: 0.7705\n",
            "Epoch 38/50\n",
            "1563/1563 [==============================] - 10s 6ms/step - loss: 0.6053 - accuracy: 0.7888 - val_loss: 0.6689 - val_accuracy: 0.7778\n",
            "Epoch 39/50\n",
            "1563/1563 [==============================] - 10s 6ms/step - loss: 0.5908 - accuracy: 0.7953 - val_loss: 0.6573 - val_accuracy: 0.7841\n",
            "Epoch 40/50\n",
            "1563/1563 [==============================] - 10s 6ms/step - loss: 0.5846 - accuracy: 0.7982 - val_loss: 0.6518 - val_accuracy: 0.7823\n",
            "Epoch 41/50\n",
            "1563/1563 [==============================] - 9s 6ms/step - loss: 0.5778 - accuracy: 0.7993 - val_loss: 0.6536 - val_accuracy: 0.7778\n",
            "Epoch 42/50\n",
            "1563/1563 [==============================] - 10s 6ms/step - loss: 0.5643 - accuracy: 0.8027 - val_loss: 0.6635 - val_accuracy: 0.7769\n",
            "Epoch 43/50\n",
            "1563/1563 [==============================] - 9s 6ms/step - loss: 0.5550 - accuracy: 0.8066 - val_loss: 0.6438 - val_accuracy: 0.7836\n",
            "Epoch 44/50\n",
            "1563/1563 [==============================] - 9s 6ms/step - loss: 0.5424 - accuracy: 0.8097 - val_loss: 0.6378 - val_accuracy: 0.7897\n",
            "Epoch 45/50\n",
            "1563/1563 [==============================] - 9s 6ms/step - loss: 0.5362 - accuracy: 0.8131 - val_loss: 0.6401 - val_accuracy: 0.7874\n",
            "Epoch 46/50\n",
            "1563/1563 [==============================] - 9s 6ms/step - loss: 0.5282 - accuracy: 0.8134 - val_loss: 0.6476 - val_accuracy: 0.7856\n",
            "Epoch 47/50\n",
            "1563/1563 [==============================] - 10s 6ms/step - loss: 0.5226 - accuracy: 0.8193 - val_loss: 0.6348 - val_accuracy: 0.7917\n",
            "Epoch 48/50\n",
            "1563/1563 [==============================] - 11s 7ms/step - loss: 0.5087 - accuracy: 0.8221 - val_loss: 0.6374 - val_accuracy: 0.7887\n",
            "Epoch 49/50\n",
            "1563/1563 [==============================] - 9s 6ms/step - loss: 0.5036 - accuracy: 0.8237 - val_loss: 0.6331 - val_accuracy: 0.7935\n",
            "Epoch 50/50\n",
            "1563/1563 [==============================] - 9s 6ms/step - loss: 0.4926 - accuracy: 0.8296 - val_loss: 0.6338 - val_accuracy: 0.7931\n"
          ]
        }
      ]
    },
    {
      "cell_type": "code",
      "source": [
        "fig, axs = plt.subplots(1,2,figsize=(15,5)) \n",
        "axs[0].plot(elu_model1_history.history['accuracy'])\n",
        "axs[0].plot(elu_model1_history.history['val_accuracy'])\n",
        "axs[0].legend(['Training','Validation'])\n",
        "axs[0].set_xlabel(\"epoch\")\n",
        "axs[0].set_ylabel(\"accuracy\")\n",
        "axs[0].set_title(\"Model Accuracy\")\n",
        "\n",
        "axs[1].plot(elu_model1_history.history['loss'])\n",
        "axs[1].plot(elu_model1_history.history['val_loss'])\n",
        "axs[1].legend(['Training','Validation'])\n",
        "axs[1].set_xlabel(\"epoch\")\n",
        "axs[1].set_ylabel(\"loss\")\n",
        "axs[1].set_title(\"Model Loss\")"
      ],
      "metadata": {
        "colab": {
          "base_uri": "https://localhost:8080/",
          "height": 367
        },
        "id": "6lrhh1nmExO4",
        "outputId": "88980fc1-2248-4407-a28a-8ad77b58eb11"
      },
      "execution_count": null,
      "outputs": [
        {
          "output_type": "execute_result",
          "data": {
            "text/plain": [
              "Text(0.5, 1.0, 'Model Loss')"
            ]
          },
          "metadata": {},
          "execution_count": 6
        },
        {
          "output_type": "display_data",
          "data": {
            "text/plain": [
              "<Figure size 1080x360 with 2 Axes>"
            ],
            "image/png": "[encoded data removed]"
          },
          "metadata": {
            "needs_background": "light"
          }
        }
      ]
    },
    {
      "cell_type": "code",
      "source": [
        "elu_model1.save(\"final_model.h5\")"
      ],
      "metadata": {
        "id": "AU8Bmkj_JID_"
      },
      "execution_count": null,
      "outputs": []
    },
    {
      "cell_type": "code",
      "source": [
        "import cv2\n",
        "from PIL import Image\n",
        "import os"
      ],
      "metadata": {
        "id": "bMMLn1OZEysw"
      },
      "execution_count": null,
      "outputs": []
    },
    {
      "cell_type": "code",
      "source": [
        "# make a prediction for a new image.\n",
        "import keras\n",
        "\n",
        "from keras_preprocessing.image import load_img\n",
        "from keras_preprocessing.image import img_to_array\n",
        "from keras.models import load_model\n",
        "\n",
        "# load and prepare the image\n",
        "\n",
        "\t# load the image\n",
        "img = load_img('dog.jpg', target_size=(32, 32))\n",
        "\t# convert to array\n",
        "img = img_to_array(img)\n",
        "\t# reshape into a single sample with 3 channels\n",
        "img = img.reshape(1, 32, 32, 3)\n",
        "\t# prepare pixel data\n",
        "img = img.astype('float32')\n",
        "img = img / 255.0\n",
        "\n",
        "\n",
        "\n",
        "\t# load model\n",
        "model = load_model('final_model.h5')\n",
        "\t# predict the class\n",
        "result = model.predict(img)\n",
        "print(result)\n",
        "# Generate arg maxes for predictions\n",
        "dog = np.argmax(result, axis = 1)\n",
        "print(dog)\n"
      ],
      "metadata": {
        "colab": {
          "base_uri": "https://localhost:8080/"
        },
        "id": "pOwBzqOxE3pA",
        "outputId": "12995f31-3900-447d-ab66-1f4231561282"
      },
      "execution_count": null,
      "outputs": [
        {
          "output_type": "stream",
          "name": "stdout",
          "text": [
            "1/1 [==============================] - 0s 78ms/step\n",
            "[[0.01925032 0.00159898 0.02028336 0.1472499  0.01488927 0.06921726\n",
            "  0.00345012 0.14973778 0.568537   0.00578601]]\n",
            "[8]\n"
          ]
        }
      ]
    }
  ]
}