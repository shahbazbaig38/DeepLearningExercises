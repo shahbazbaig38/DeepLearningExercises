{
  "nbformat": 4,
  "nbformat_minor": 0,
  "metadata": {
    "colab": {
      "provenance": []
    },
    "kernelspec": {
      "name": "python3",
      "display_name": "Python 3"
    },
    "language_info": {
      "name": "python"
    },
    "gpuClass": "standard"
  },
  "cells": [
    {
      "cell_type": "markdown",
      "source": [
        "# MNIST "
      ],
      "metadata": {
        "id": "rr1fskutnNXZ"
      }
    },
    {
      "cell_type": "code",
      "execution_count": null,
      "metadata": {
        "id": "dzF3P3h3V-Su"
      },
      "outputs": [],
      "source": [
        "# import relevant libraries\n",
        "import numpy as np\n",
        "import pandas as pd\n",
        "import matplotlib.pyplot as plt\n",
        "%matplotlib inline\n",
        "import seaborn as sns\n",
        "import keras\n",
        "from keras.datasets import mnist\n",
        "from keras.models import Sequential\n",
        "from keras.layers import Dense, Conv2D, Flatten"
      ]
    },
    {
      "cell_type": "code",
      "source": [
        "def load_data():\n",
        "  (train_samples,train_labels), (test_samples,test_labels) = mnist.load_data()\n",
        "  return train_samples, train_labels, test_samples, test_labels\n",
        "\n",
        "train_samples, train_labels, test_samples, test_labels = load_data()"
      ],
      "metadata": {
        "colab": {
          "base_uri": "https://localhost:8080/"
        },
        "id": "5IBC_nsDWPgX",
        "outputId": "000a2945-d908-4308-8053-141c808dcb69"
      },
      "execution_count": null,
      "outputs": [
        {
          "output_type": "stream",
          "name": "stdout",
          "text": [
            "Downloading data from https://storage.googleapis.com/tensorflow/tf-keras-datasets/mnist.npz\n",
            "11490434/11490434 [==============================] - 0s 0us/step\n"
          ]
        }
      ]
    },
    {
      "cell_type": "code",
      "source": [
        "# check the shape of the data\n",
        "print(train_samples.shape)\n",
        "print(train_labels.shape)\n",
        "print(test_samples.shape)\n",
        "print(test_labels.shape)"
      ],
      "metadata": {
        "colab": {
          "base_uri": "https://localhost:8080/"
        },
        "id": "m2g7yHObWU3Z",
        "outputId": "90c1c46b-0693-4ab1-b22a-40b3755b16b4"
      },
      "execution_count": null,
      "outputs": [
        {
          "output_type": "stream",
          "name": "stdout",
          "text": [
            "(60000, 28, 28)\n",
            "(60000,)\n",
            "(10000, 28, 28)\n",
            "(10000,)\n"
          ]
        }
      ]
    },
    {
      "cell_type": "code",
      "source": [
        "def convert_dtype(x):\n",
        "   \n",
        "    \n",
        "    x_float=x.astype('float32')\n",
        "    return x_float\n",
        "\n",
        "train_samples = convert_dtype(train_samples)\n",
        "test_samples = convert_dtype(test_samples)"
      ],
      "metadata": {
        "id": "1GZDQrnbWYlC"
      },
      "execution_count": null,
      "outputs": []
    },
    {
      "cell_type": "code",
      "source": [
        "def normalize(x):\n",
        "  y = (x - np.min(x))/np.ptp(x)   #ptp function is used to find the range\n",
        "  return y\n",
        "\n",
        "train_samples = normalize(train_samples)\n",
        "test_samples = normalize(test_samples)"
      ],
      "metadata": {
        "id": "fL6ea-a5WcJu"
      },
      "execution_count": null,
      "outputs": []
    },
    {
      "cell_type": "code",
      "source": [
        "# We need to reshape our train_data to be of shape (samples, height, width, channels) pass to Conv2D layer of keras\n",
        "\n",
        "def reshape(x):\n",
        "    \n",
        "    \n",
        "    x_r=x.reshape(x.shape[0],x.shape[1],x.shape[2],1)\n",
        "    return x_r\n",
        "\n",
        "train_samples = reshape(train_samples)\n",
        "test_samples = reshape(test_samples)"
      ],
      "metadata": {
        "id": "zfpEhwN1WfdQ"
      },
      "execution_count": null,
      "outputs": []
    },
    {
      "cell_type": "code",
      "source": [
        "def oneHot(y, Ny):\n",
        "    \n",
        "    import tensorflow \n",
        "    from keras.utils import to_categorical\n",
        "    Ny=len(np.unique(y))\n",
        "    y_oh=to_categorical(y,num_classes=Ny)\n",
        "    return y_oh\n",
        "\n",
        "# example\n",
        "train_labels = oneHot(train_labels, 10)\n",
        "test_labels = oneHot(test_labels, 10)"
      ],
      "metadata": {
        "id": "lGJnQT4AWjF6"
      },
      "execution_count": null,
      "outputs": []
    },
    {
      "cell_type": "code",
      "source": [
        "model = Sequential()\n",
        "model.add(Conv2D(64, kernel_size=3, activation='relu', input_shape=(28,28,1)))\n",
        "model.add(Conv2D(32, kernel_size=3, activation='relu'))\n",
        "model.add(Flatten())\n",
        "model.add(Dense(10, activation='softmax'))\n",
        "model.compile(loss='categorical_crossentropy', optimizer='adam', metrics=['accuracy'])\n",
        "history = model.fit(train_samples, train_labels, validation_split = 0.1, epochs=10, batch_size=128)"
      ],
      "metadata": {
        "colab": {
          "base_uri": "https://localhost:8080/"
        },
        "id": "tGvNrbYwWkXN",
        "outputId": "d7537c45-2751-4477-a05d-6594cf8f8ac3"
      },
      "execution_count": null,
      "outputs": [
        {
          "output_type": "stream",
          "name": "stdout",
          "text": [
            "Epoch 1/10\n",
            "422/422 [==============================] - 13s 10ms/step - loss: 0.2061 - accuracy: 0.9406 - val_loss: 0.0768 - val_accuracy: 0.9795\n",
            "Epoch 2/10\n",
            "422/422 [==============================] - 4s 8ms/step - loss: 0.0606 - accuracy: 0.9815 - val_loss: 0.0537 - val_accuracy: 0.9845\n",
            "Epoch 3/10\n",
            "422/422 [==============================] - 4s 9ms/step - loss: 0.0419 - accuracy: 0.9870 - val_loss: 0.0522 - val_accuracy: 0.9865\n",
            "Epoch 4/10\n",
            "422/422 [==============================] - 4s 9ms/step - loss: 0.0304 - accuracy: 0.9904 - val_loss: 0.0501 - val_accuracy: 0.9863\n",
            "Epoch 5/10\n",
            "422/422 [==============================] - 4s 8ms/step - loss: 0.0239 - accuracy: 0.9924 - val_loss: 0.0489 - val_accuracy: 0.9887\n",
            "Epoch 6/10\n",
            "422/422 [==============================] - 4s 9ms/step - loss: 0.0181 - accuracy: 0.9940 - val_loss: 0.0521 - val_accuracy: 0.9878\n",
            "Epoch 7/10\n",
            "422/422 [==============================] - 4s 8ms/step - loss: 0.0149 - accuracy: 0.9951 - val_loss: 0.0581 - val_accuracy: 0.9870\n",
            "Epoch 8/10\n",
            "422/422 [==============================] - 4s 9ms/step - loss: 0.0105 - accuracy: 0.9966 - val_loss: 0.0624 - val_accuracy: 0.9852\n",
            "Epoch 9/10\n",
            "422/422 [==============================] - 4s 9ms/step - loss: 0.0096 - accuracy: 0.9966 - val_loss: 0.0592 - val_accuracy: 0.9875\n",
            "Epoch 10/10\n",
            "422/422 [==============================] - 4s 9ms/step - loss: 0.0070 - accuracy: 0.9975 - val_loss: 0.0644 - val_accuracy: 0.9875\n"
          ]
        }
      ]
    },
    {
      "cell_type": "code",
      "source": [
        "fig, axs = plt.subplots(1,2,figsize=(15,5)) \n",
        "axs[0].plot(history.history['accuracy'])\n",
        "axs[0].plot(history.history['val_accuracy'])\n",
        "axs[0].legend(['Training','Validation'])\n",
        "axs[0].set_xlabel(\"epoch\")\n",
        "axs[0].set_ylabel(\"accuracy\")\n",
        "axs[0].set_title(\"Model Accuracy\")\n",
        "\n",
        "axs[1].plot(history.history['loss'])\n",
        "axs[1].plot(history.history['val_loss'])\n",
        "axs[1].legend(['Training','Validation'])\n",
        "axs[1].set_xlabel(\"epoch\")\n",
        "axs[1].set_ylabel(\"loss\")\n",
        "axs[1].set_title(\"Model Loss\")"
      ],
      "metadata": {
        "colab": {
          "base_uri": "https://localhost:8080/",
          "height": 367
        },
        "id": "299EiyZaXC6Y",
        "outputId": "b1f11e19-f488-4a1d-ac12-ae07f7a49288"
      },
      "execution_count": null,
      "outputs": [
        {
          "output_type": "execute_result",
          "data": {
            "text/plain": [
              "Text(0.5, 1.0, 'Model Loss')"
            ]
          },
          "metadata": {},
          "execution_count": 9
        },
        {
          "output_type": "display_data",
          "data": {
            "text/plain": [
              "<Figure size 1080x360 with 2 Axes>"
            ],
            "image/png": "[encoded data removed]"
          },
          "metadata": {
            "needs_background": "light"
          }
        }
      ]
    },
    {
      "cell_type": "code",
      "source": [
        "import cv2\n",
        "from PIL import Image\n",
        "import os"
      ],
      "metadata": {
        "id": "4-issghHgJSo"
      },
      "execution_count": null,
      "outputs": []
    },
    {
      "cell_type": "code",
      "source": [
        "#Custom Image Prediction\n",
        "size = 28,28\n",
        "image1=\"handwritten6.jpg\"\n",
        "im = Image.open(image1)\n",
        "im_resized = im.resize(size, Image.ANTIALIAS)\n",
        "im_resized.save(\"down.png\",\"PNG\")\n",
        "    \n",
        "img = cv2.imread(\"down.png\",0)  \n",
        "img = img / 255 \n",
        "img = np.reshape(img,(1, 28, 28, 1)) \n",
        "prediction = model.predict(img)\n",
        "print(prediction)"
      ],
      "metadata": {
        "colab": {
          "base_uri": "https://localhost:8080/"
        },
        "id": "pqKfFGtjbHvr",
        "outputId": "d26bde86-f339-4418-8560-f16e982f2829"
      },
      "execution_count": null,
      "outputs": [
        {
          "output_type": "stream",
          "name": "stdout",
          "text": [
            "1/1 [==============================] - 0s 15ms/step\n",
            "[[4.7262814e-03 9.9822417e-09 1.0372355e-03 2.2405643e-06 1.7285131e-06\n",
            "  6.1848778e-03 9.6913391e-01 1.4890593e-07 1.6081581e-02 2.8320148e-03]]\n"
          ]
        }
      ]
    },
    {
      "cell_type": "markdown",
      "source": [
        "Custom image was uploaded and reshaped for prediction on the basis of MNIST dataset training."
      ],
      "metadata": {
        "id": "-jVFDKrsjRkl"
      }
    },
    {
      "cell_type": "code",
      "source": [
        "# Generate arg maxes for predictions\n",
        "handwritten = np.argmax(prediction, axis = 1)\n",
        "print(handwritten)"
      ],
      "metadata": {
        "colab": {
          "base_uri": "https://localhost:8080/"
        },
        "id": "tQm3Zlvchk7s",
        "outputId": "eeced882-e89a-4b04-e35c-dbcf5147436a"
      },
      "execution_count": null,
      "outputs": [
        {
          "output_type": "stream",
          "name": "stdout",
          "text": [
            "[6]\n"
          ]
        }
      ]
    },
    {
      "cell_type": "markdown",
      "source": [
        "Image has been predicted successfully."
      ],
      "metadata": {
        "id": "S20slEpxjgHe"
      }
    }
  ]
}