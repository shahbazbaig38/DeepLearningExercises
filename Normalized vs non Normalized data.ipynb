{
  "nbformat": 4,
  "nbformat_minor": 0,
  "metadata": {
    "colab": {
      "provenance": []
    },
    "kernelspec": {
      "name": "python3",
      "display_name": "Python 3"
    },
    "language_info": {
      "name": "python"
    },
    "gpuClass": "standard",
    "accelerator": "GPU"
  },
  "cells": [
    {
      "cell_type": "markdown",
      "source": [
        "# Use of Normalization"
      ],
      "metadata": {
        "id": "ZUPWuRETCDP8"
      }
    },
    {
      "cell_type": "code",
      "execution_count": null,
      "metadata": {
        "id": "QMDtCChZ3330"
      },
      "outputs": [],
      "source": [
        "# import relevant libraries\n",
        "import numpy as np\n",
        "import pandas as pd\n",
        "import matplotlib.pyplot as plt\n",
        "%matplotlib inline\n",
        "import seaborn as sns\n",
        "import keras\n",
        "from keras.datasets import mnist\n",
        "from keras.models import Sequential\n",
        "from keras.layers import Dense, Conv2D, Flatten, BatchNormalization"
      ]
    },
    {
      "cell_type": "code",
      "source": [
        "def load_data():\n",
        "  (train_samples,train_labels), (test_samples,test_labels) = mnist.load_data()\n",
        "  return train_samples, train_labels, test_samples, test_labels\n",
        "\n",
        "train_samples, train_labels, test_samples, test_labels = load_data()"
      ],
      "metadata": {
        "id": "81qYkiUc4UV3",
        "colab": {
          "base_uri": "https://localhost:8080/"
        },
        "outputId": "bea45516-8b27-4c46-8dcb-ff62bebd46cf"
      },
      "execution_count": null,
      "outputs": [
        {
          "output_type": "stream",
          "name": "stdout",
          "text": [
            "Downloading data from https://storage.googleapis.com/tensorflow/tf-keras-datasets/mnist.npz\n",
            "11490434/11490434 [==============================] - 0s 0us/step\n"
          ]
        }
      ]
    },
    {
      "cell_type": "code",
      "source": [
        "# check the shape of the data\n",
        "print(train_samples.shape)\n",
        "print(train_labels.shape)\n",
        "print(test_samples.shape)\n",
        "print(test_labels.shape)"
      ],
      "metadata": {
        "colab": {
          "base_uri": "https://localhost:8080/"
        },
        "id": "V0-5_xQq4ZHy",
        "outputId": "0da2b25e-7baf-46d3-b614-bbb8674682a5"
      },
      "execution_count": null,
      "outputs": [
        {
          "output_type": "stream",
          "name": "stdout",
          "text": [
            "(60000, 28, 28)\n",
            "(60000,)\n",
            "(10000, 28, 28)\n",
            "(10000,)\n"
          ]
        }
      ]
    },
    {
      "cell_type": "markdown",
      "source": [
        "# Scaling"
      ],
      "metadata": {
        "id": "5AwlYypeCSBt"
      }
    },
    {
      "cell_type": "code",
      "source": [
        "def convert_dtype(x):\n",
        "   \n",
        "    \n",
        "    x_float=x.astype('float32')\n",
        "    return x_float\n",
        "\n",
        "train_samples = convert_dtype(train_samples)\n",
        "test_samples = convert_dtype(test_samples)"
      ],
      "metadata": {
        "id": "bmJjoljY4dX4"
      },
      "execution_count": null,
      "outputs": []
    },
    {
      "cell_type": "code",
      "source": [
        "def normalize(x):\n",
        "  y = (x - np.min(x))/np.ptp(x)   #ptp function is used to find the range\n",
        "  return y\n",
        "\n",
        "train_samples = normalize(train_samples)\n",
        "test_samples = normalize(test_samples)"
      ],
      "metadata": {
        "id": "GPRwlcRQ4ik2"
      },
      "execution_count": null,
      "outputs": []
    },
    {
      "cell_type": "code",
      "source": [
        "# to check if train_samples is normalized or not\n",
        "np.isclose(np.amax(train_samples), 1)"
      ],
      "metadata": {
        "colab": {
          "base_uri": "https://localhost:8080/"
        },
        "id": "JYWk4w3T4mGW",
        "outputId": "4a83e43c-d764-4c7f-918c-0e3ec7ccb5e7"
      },
      "execution_count": null,
      "outputs": [
        {
          "output_type": "execute_result",
          "data": {
            "text/plain": [
              "True"
            ]
          },
          "metadata": {},
          "execution_count": 6
        }
      ]
    },
    {
      "cell_type": "code",
      "source": [
        "# We need to reshape our train_data to be of shape (samples, height, width, channels) pass to Conv2D layer of keras\n",
        "\n",
        "def reshape(x):\n",
        "    \n",
        "    \n",
        "    x_r=x.reshape(x.shape[0],x.shape[1],x.shape[2],1)\n",
        "    return x_r\n",
        "\n",
        "train_samples = reshape(train_samples)\n",
        "test_samples = reshape(test_samples)"
      ],
      "metadata": {
        "id": "C2Z7e6kU4plH"
      },
      "execution_count": null,
      "outputs": []
    },
    {
      "cell_type": "code",
      "source": [
        "def oneHot(y, Ny):\n",
        "    \n",
        "    import tensorflow \n",
        "    from keras.utils import to_categorical\n",
        "    Ny=len(np.unique(y))\n",
        "    y_oh=to_categorical(y,num_classes=Ny)\n",
        "    return y_oh\n",
        "\n",
        "# example\n",
        "train_labels = oneHot(train_labels, 10)\n",
        "test_labels = oneHot(test_labels, 10)"
      ],
      "metadata": {
        "id": "xOhscgB14tR_"
      },
      "execution_count": null,
      "outputs": []
    },
    {
      "cell_type": "markdown",
      "source": [
        "# Without Normalization"
      ],
      "metadata": {
        "id": "LeV-1HhrCXmK"
      }
    },
    {
      "cell_type": "code",
      "source": [
        "relu_model_nn = Sequential()\n",
        "relu_model_nn.add(Conv2D(64, kernel_size=3, activation='relu', input_shape=(28,28,1)))\n",
        "relu_model_nn.add(Conv2D(32, kernel_size=3, activation='relu'))\n",
        "relu_model_nn.add(Flatten())\n",
        "relu_model_nn.add(Dense(10, activation='softmax'))\n",
        "relu_model_nn.compile(loss='categorical_crossentropy', optimizer='adam', metrics=['accuracy'])\n",
        "relu_results_nn = relu_model_nn.fit(train_samples, train_labels, validation_split = 0.2, epochs=20, batch_size=64)"
      ],
      "metadata": {
        "colab": {
          "base_uri": "https://localhost:8080/"
        },
        "id": "4P6F0vbN4zQE",
        "outputId": "98608c48-bc50-4f1a-d69d-767bd4e0c9e9"
      },
      "execution_count": null,
      "outputs": [
        {
          "output_type": "stream",
          "name": "stdout",
          "text": [
            "Epoch 1/20\n",
            "750/750 [==============================] - 13s 6ms/step - loss: 0.1676 - accuracy: 0.9490 - val_loss: 0.0649 - val_accuracy: 0.9811\n",
            "Epoch 2/20\n",
            "750/750 [==============================] - 4s 5ms/step - loss: 0.0527 - accuracy: 0.9834 - val_loss: 0.0591 - val_accuracy: 0.9825\n",
            "Epoch 3/20\n",
            "750/750 [==============================] - 4s 6ms/step - loss: 0.0348 - accuracy: 0.9888 - val_loss: 0.0576 - val_accuracy: 0.9836\n",
            "Epoch 4/20\n",
            "750/750 [==============================] - 4s 6ms/step - loss: 0.0255 - accuracy: 0.9919 - val_loss: 0.0536 - val_accuracy: 0.9859\n",
            "Epoch 5/20\n",
            "750/750 [==============================] - 4s 6ms/step - loss: 0.0173 - accuracy: 0.9941 - val_loss: 0.0603 - val_accuracy: 0.9842\n",
            "Epoch 6/20\n",
            "750/750 [==============================] - 4s 6ms/step - loss: 0.0136 - accuracy: 0.9954 - val_loss: 0.0584 - val_accuracy: 0.9851\n",
            "Epoch 7/20\n",
            "750/750 [==============================] - 4s 5ms/step - loss: 0.0104 - accuracy: 0.9967 - val_loss: 0.0691 - val_accuracy: 0.9850\n",
            "Epoch 8/20\n",
            "750/750 [==============================] - 4s 5ms/step - loss: 0.0098 - accuracy: 0.9965 - val_loss: 0.0695 - val_accuracy: 0.9869\n",
            "Epoch 9/20\n",
            "750/750 [==============================] - 4s 5ms/step - loss: 0.0071 - accuracy: 0.9975 - val_loss: 0.0686 - val_accuracy: 0.9854\n",
            "Epoch 10/20\n",
            "750/750 [==============================] - 5s 6ms/step - loss: 0.0068 - accuracy: 0.9974 - val_loss: 0.0738 - val_accuracy: 0.9858\n",
            "Epoch 11/20\n",
            "750/750 [==============================] - 4s 5ms/step - loss: 0.0046 - accuracy: 0.9983 - val_loss: 0.0952 - val_accuracy: 0.9821\n",
            "Epoch 12/20\n",
            "750/750 [==============================] - 4s 6ms/step - loss: 0.0057 - accuracy: 0.9980 - val_loss: 0.0999 - val_accuracy: 0.9835\n",
            "Epoch 13/20\n",
            "750/750 [==============================] - 4s 5ms/step - loss: 0.0053 - accuracy: 0.9982 - val_loss: 0.0924 - val_accuracy: 0.9856\n",
            "Epoch 14/20\n",
            "750/750 [==============================] - 4s 5ms/step - loss: 0.0040 - accuracy: 0.9986 - val_loss: 0.1037 - val_accuracy: 0.9831\n",
            "Epoch 15/20\n",
            "750/750 [==============================] - 4s 5ms/step - loss: 0.0032 - accuracy: 0.9991 - val_loss: 0.0999 - val_accuracy: 0.9846\n",
            "Epoch 16/20\n",
            "750/750 [==============================] - 4s 5ms/step - loss: 0.0041 - accuracy: 0.9985 - val_loss: 0.1006 - val_accuracy: 0.9840\n",
            "Epoch 17/20\n",
            "750/750 [==============================] - 4s 5ms/step - loss: 0.0037 - accuracy: 0.9988 - val_loss: 0.1006 - val_accuracy: 0.9845\n",
            "Epoch 18/20\n",
            "750/750 [==============================] - 4s 5ms/step - loss: 0.0017 - accuracy: 0.9994 - val_loss: 0.0940 - val_accuracy: 0.9847\n",
            "Epoch 19/20\n",
            "750/750 [==============================] - 4s 5ms/step - loss: 0.0021 - accuracy: 0.9993 - val_loss: 0.0998 - val_accuracy: 0.9847\n",
            "Epoch 20/20\n",
            "750/750 [==============================] - 4s 6ms/step - loss: 0.0047 - accuracy: 0.9983 - val_loss: 0.1012 - val_accuracy: 0.9843\n"
          ]
        }
      ]
    },
    {
      "cell_type": "markdown",
      "source": [
        "# Using Normalization"
      ],
      "metadata": {
        "id": "-IyHbfAzChcU"
      }
    },
    {
      "cell_type": "code",
      "source": [
        "relu_model_bn = Sequential()\n",
        "relu_model_bn.add(Conv2D(64, kernel_size=3, activation='relu', input_shape=(28,28,1)))\n",
        "relu_model_bn.add(BatchNormalization())\n",
        "relu_model_bn.add(Conv2D(32, kernel_size=3, activation='relu'))\n",
        "relu_model_bn.add(BatchNormalization())\n",
        "relu_model_bn.add(Flatten())\n",
        "relu_model_bn.add(Dense(10, activation='softmax'))\n",
        "relu_model_bn.compile(loss='categorical_crossentropy', optimizer='adam', metrics=['accuracy'])\n",
        "relu_results_bn = relu_model_bn.fit(train_samples, train_labels, validation_split = 0.2, epochs=20, batch_size=64)"
      ],
      "metadata": {
        "colab": {
          "base_uri": "https://localhost:8080/"
        },
        "id": "QWtoZ4Ub-Qdh",
        "outputId": "dc85790f-6adb-4db2-978b-70ad303d53da"
      },
      "execution_count": null,
      "outputs": [
        {
          "output_type": "stream",
          "name": "stdout",
          "text": [
            "Epoch 1/20\n",
            "750/750 [==============================] - 5s 6ms/step - loss: 0.2464 - accuracy: 0.9487 - val_loss: 0.1253 - val_accuracy: 0.9728\n",
            "Epoch 2/20\n",
            "750/750 [==============================] - 5s 6ms/step - loss: 0.0843 - accuracy: 0.9822 - val_loss: 0.1071 - val_accuracy: 0.9802\n",
            "Epoch 3/20\n",
            "750/750 [==============================] - 5s 6ms/step - loss: 0.0492 - accuracy: 0.9878 - val_loss: 0.1150 - val_accuracy: 0.9796\n",
            "Epoch 4/20\n",
            "750/750 [==============================] - 5s 6ms/step - loss: 0.0288 - accuracy: 0.9921 - val_loss: 0.1211 - val_accuracy: 0.9766\n",
            "Epoch 5/20\n",
            "750/750 [==============================] - 5s 6ms/step - loss: 0.0199 - accuracy: 0.9941 - val_loss: 0.1410 - val_accuracy: 0.9798\n",
            "Epoch 6/20\n",
            "750/750 [==============================] - 5s 6ms/step - loss: 0.0231 - accuracy: 0.9933 - val_loss: 0.1110 - val_accuracy: 0.9822\n",
            "Epoch 7/20\n",
            "750/750 [==============================] - 5s 6ms/step - loss: 0.0183 - accuracy: 0.9950 - val_loss: 0.1598 - val_accuracy: 0.9793\n",
            "Epoch 8/20\n",
            "750/750 [==============================] - 5s 6ms/step - loss: 0.0156 - accuracy: 0.9956 - val_loss: 0.1334 - val_accuracy: 0.9821\n",
            "Epoch 9/20\n",
            "750/750 [==============================] - 4s 6ms/step - loss: 0.0131 - accuracy: 0.9961 - val_loss: 0.1402 - val_accuracy: 0.9827\n",
            "Epoch 10/20\n",
            "750/750 [==============================] - 5s 6ms/step - loss: 0.0106 - accuracy: 0.9972 - val_loss: 0.1321 - val_accuracy: 0.9835\n",
            "Epoch 11/20\n",
            "750/750 [==============================] - 5s 7ms/step - loss: 0.0093 - accuracy: 0.9974 - val_loss: 0.1223 - val_accuracy: 0.9818\n",
            "Epoch 12/20\n",
            "750/750 [==============================] - 5s 6ms/step - loss: 0.0081 - accuracy: 0.9974 - val_loss: 0.1287 - val_accuracy: 0.9840\n",
            "Epoch 13/20\n",
            "750/750 [==============================] - 4s 6ms/step - loss: 0.0092 - accuracy: 0.9976 - val_loss: 0.1398 - val_accuracy: 0.9819\n",
            "Epoch 14/20\n",
            "750/750 [==============================] - 4s 6ms/step - loss: 0.0081 - accuracy: 0.9977 - val_loss: 0.1458 - val_accuracy: 0.9821\n",
            "Epoch 15/20\n",
            "750/750 [==============================] - 5s 6ms/step - loss: 0.0049 - accuracy: 0.9987 - val_loss: 0.1274 - val_accuracy: 0.9844\n",
            "Epoch 16/20\n",
            "750/750 [==============================] - 4s 6ms/step - loss: 0.0055 - accuracy: 0.9986 - val_loss: 0.1368 - val_accuracy: 0.9841\n",
            "Epoch 17/20\n",
            "750/750 [==============================] - 4s 6ms/step - loss: 0.0040 - accuracy: 0.9989 - val_loss: 0.1272 - val_accuracy: 0.9823\n",
            "Epoch 18/20\n",
            "750/750 [==============================] - 5s 6ms/step - loss: 0.0057 - accuracy: 0.9983 - val_loss: 0.1743 - val_accuracy: 0.9785\n",
            "Epoch 19/20\n",
            "750/750 [==============================] - 5s 6ms/step - loss: 0.0061 - accuracy: 0.9984 - val_loss: 0.1366 - val_accuracy: 0.9849\n",
            "Epoch 20/20\n",
            "750/750 [==============================] - 5s 6ms/step - loss: 0.0035 - accuracy: 0.9989 - val_loss: 0.1294 - val_accuracy: 0.9857\n"
          ]
        }
      ]
    },
    {
      "cell_type": "code",
      "source": [
        "fig, axs = plt.subplots(1,2,figsize=(15,5)) \n",
        "axs[0].plot(relu_results_nn.history['loss'])\n",
        "axs[0].plot(relu_results_nn.history['val_loss'])\n",
        "axs[0].set_title('Without Normalization')\n",
        "axs[0].set_xlabel('Epoch')\n",
        "axs[0].set_ylabel('loss')\n",
        "axs[0].legend(['Training loss', 'Validation loss'])\n",
        "axs[1].plot(relu_results_bn.history['loss'])\n",
        "axs[1].plot(relu_results_bn.history['val_loss'])\n",
        "axs[1].set_title('Normalization')\n",
        "axs[1].set_xlabel('Epoch')\n",
        "axs[1].set_ylabel('Loss')\n",
        "axs[1].legend(['Training Loss', 'Validation Loss'])\n",
        "\n",
        "plt.show()"
      ],
      "metadata": {
        "colab": {
          "base_uri": "https://localhost:8080/",
          "height": 350
        },
        "id": "cQ4KFeoXAVOa",
        "outputId": "064edabd-8fd6-4f21-acc7-367ed7cd4f1a"
      },
      "execution_count": null,
      "outputs": [
        {
          "output_type": "display_data",
          "data": {
            "text/plain": [
              "<Figure size 1080x360 with 2 Axes>"
            ],
            "image/png": "[encoded data removed]"
          },
          "metadata": {
            "needs_background": "light"
          }
        }
      ]
    }
  ]
}