{
  "nbformat": 4,
  "nbformat_minor": 0,
  "metadata": {
    "colab": {
      "provenance": []
    },
    "kernelspec": {
      "name": "python3",
      "display_name": "Python 3"
    },
    "language_info": {
      "name": "python"
    },
    "accelerator": "GPU",
    "gpuClass": "standard"
  },
  "cells": [
    {
      "cell_type": "markdown",
      "source": [
        "# CIFAR10 dataset"
      ],
      "metadata": {
        "id": "XSwLMs0gVmoY"
      }
    },
    {
      "cell_type": "code",
      "execution_count": null,
      "metadata": {
        "id": "kGRhQei5xtFJ"
      },
      "outputs": [],
      "source": [
        "import numpy as np\n",
        "import pandas as pd\n",
        "import matplotlib.pyplot as plt\n",
        "%matplotlib inline\n",
        "import seaborn as sns\n",
        "import keras\n",
        "from keras.datasets import cifar10\n",
        "from keras.models import Sequential\n",
        "from keras.layers import Dense, Conv2D, Flatten, Activation, MaxPooling2D, Dropout\n",
        "from keras.preprocessing.image import ImageDataGenerator"
      ]
    },
    {
      "cell_type": "code",
      "source": [
        "batch_size = 32  # The default batch size of keras.\n",
        "num_classes = 10  # Number of class for the dataset\n",
        "epochs = 50\n",
        "data_augmentation = False"
      ],
      "metadata": {
        "id": "HQsoNbaGyXqF"
      },
      "execution_count": null,
      "outputs": []
    },
    {
      "cell_type": "code",
      "source": [
        "# The data, split between train and test sets:\n",
        "(x_train, y_train), (x_test, y_test) = cifar10.load_data()\n",
        "print('x_train shape:', x_train.shape)\n",
        "print('y_train shape:', y_train.shape)\n",
        "print(x_train.shape[0], 'train samples')\n",
        "print(x_test.shape[0], 'test samples')"
      ],
      "metadata": {
        "colab": {
          "base_uri": "https://localhost:8080/"
        },
        "id": "-UavIZ4QyaYv",
        "outputId": "37dfdcbb-dc57-44a3-c015-84a5ef47fcbf"
      },
      "execution_count": null,
      "outputs": [
        {
          "output_type": "stream",
          "name": "stdout",
          "text": [
            "Downloading data from https://www.cs.toronto.edu/~kriz/cifar-10-python.tar.gz\n",
            "170498071/170498071 [==============================] - 2s 0us/step\n",
            "x_train shape: (50000, 32, 32, 3)\n",
            "y_train shape: (50000, 1)\n",
            "50000 train samples\n",
            "10000 test samples\n"
          ]
        }
      ]
    },
    {
      "cell_type": "code",
      "source": [
        "# Normalize the data. Before we need to connvert data type to float for computation.\n",
        "x_train = x_train.astype('float32')\n",
        "x_test = x_test.astype('float32')\n",
        "x_train /= 255\n",
        "x_test /= 255\n",
        "\n",
        "# Convert class vectors to binary class matrices. This is called one hot encoding.\n",
        "y_train = keras.utils.to_categorical(y_train, num_classes)\n",
        "y_test = keras.utils.to_categorical(y_test, num_classes)"
      ],
      "metadata": {
        "id": "QgLa1XscydgA"
      },
      "execution_count": null,
      "outputs": []
    },
    {
      "cell_type": "code",
      "source": [
        "#define the convnet\n",
        "elu_model1 = Sequential()\n",
        "elu_model1.add(Conv2D(32, (3, 3), padding='same',input_shape=x_train.shape[1:]))\n",
        "elu_model1.add(Activation('elu'))\n",
        "elu_model1.add(Conv2D(32, (3, 3)))\n",
        "elu_model1.add(Activation('elu'))\n",
        "elu_model1.add(MaxPooling2D(pool_size=(2, 2)))\n",
        "elu_model1.add(Dropout(0.25))\n",
        "elu_model1.add(Conv2D(64, (3, 3), padding='same'))\n",
        "elu_model1.add(Activation('elu'))\n",
        "elu_model1.add(Conv2D(64, (3, 3)))\n",
        "elu_model1.add(Activation('elu'))\n",
        "elu_model1.add(MaxPooling2D(pool_size=(2, 2)))\n",
        "elu_model1.add(Dropout(0.25))\n",
        "elu_model1.add(Flatten())\n",
        "elu_model1.add(Dense(512))\n",
        "elu_model1.add(Activation('elu'))\n",
        "elu_model1.add(Dropout(0.5))\n",
        "# a softmax classifier\n",
        "elu_model1.add(Dense(num_classes))\n",
        "elu_model1.add(Activation('softmax'))\n",
        "# initiate RMSprop optimizer\n",
        "opt = keras.optimizers.RMSprop(learning_rate=0.0001, decay=1e-6)\n",
        "\n",
        "# Let's train the model using RMSprop\n",
        "elu_model1.compile(loss='categorical_crossentropy',\n",
        "              optimizer=opt,\n",
        "              metrics=['accuracy'])\n",
        "elu_model1_history = None  # For recording the history of trainning process.\n",
        "if not data_augmentation:\n",
        "    print('Not using data augmentation.')\n",
        "    elu_model1_history = elu_model1.fit(x_train, y_train,\n",
        "              batch_size=batch_size,\n",
        "              epochs=epochs,\n",
        "              validation_data=(x_test, y_test),\n",
        "              shuffle=True)\n",
        "else:\n",
        "    print('Using real-time data augmentation.')\n",
        "    # This will do preprocessing and realtime data augmentation:\n",
        "    datagen = ImageDataGenerator(\n",
        "        featurewise_center=False,  # set input mean to 0 over the dataset\n",
        "        samplewise_center=False,  # set each sample mean to 0\n",
        "        featurewise_std_normalization=False,  # divide inputs by std of the dataset\n",
        "        samplewise_std_normalization=False,  # divide each input by its std\n",
        "        zca_whitening=False,  # apply ZCA whitening\n",
        "        zca_epsilon=1e-06,  # epsilon for ZCA whitening\n",
        "        rotation_range=0,  # randomly rotate images in the range (degrees, 0 to 180)\n",
        "        # randomly shift images horizontally (fraction of total width)\n",
        "        width_shift_range=0.1,\n",
        "        # randomly shift images vertically (fraction of total height)\n",
        "        height_shift_range=0.1,\n",
        "        shear_range=0.,  # set range for random shear\n",
        "        zoom_range=0.,  # set range for random zoom\n",
        "        channel_shift_range=0.,  # set range for random channel shifts\n",
        "        # set mode for filling points outside the input boundaries\n",
        "        fill_mode='nearest',\n",
        "        cval=0.,  # value used for fill_mode = \"constant\"\n",
        "        horizontal_flip=True,  # randomly flip images\n",
        "        vertical_flip=False,  # randomly flip images\n",
        "        # set rescaling factor (applied before any other transformation)\n",
        "        rescale=None,\n",
        "        # set function that will be applied on each input\n",
        "        preprocessing_function=None,\n",
        "        # image data format, either \"channels_first\" or \"channels_last\"\n",
        "        data_format=None,\n",
        "        # fraction of images reserved for validation (strictly between 0 and 1)\n",
        "        validation_split=0.0)\n",
        "\n",
        "    # Compute quantities required for feature-wise normalization\n",
        "    # (std, mean, and principal components if ZCA whitening is applied).\n",
        "    datagen.fit(x_train)\n",
        "\n",
        "    # Fit the model on the batches generated by datagen.flow().\n",
        "    elu_model1_history = elu_model1.fit_generator(datagen.flow(x_train, y_train,\n",
        "                                    batch_size=batch_size),\n",
        "                                    epochs=epochs,\n",
        "                                    validation_data=(x_test, y_test),\n",
        "                                    workers=4)"
      ],
      "metadata": {
        "colab": {
          "base_uri": "https://localhost:8080/"
        },
        "id": "t16lbqmdyg3d",
        "outputId": "6a033eed-1922-4caf-f42e-912c40d81bca"
      },
      "execution_count": null,
      "outputs": [
        {
          "output_type": "stream",
          "name": "stdout",
          "text": [
            "Not using data augmentation.\n",
            "Epoch 1/50\n",
            "1563/1563 [==============================] - 300s 190ms/step - loss: 1.6900 - accuracy: 0.3963 - val_loss: 1.5211 - val_accuracy: 0.4562\n",
            "Epoch 2/50\n",
            "1563/1563 [==============================] - 296s 190ms/step - loss: 1.4080 - accuracy: 0.5017 - val_loss: 1.2809 - val_accuracy: 0.5509\n",
            "Epoch 3/50\n",
            "1563/1563 [==============================] - 296s 189ms/step - loss: 1.2750 - accuracy: 0.5533 - val_loss: 1.1814 - val_accuracy: 0.5876\n",
            "Epoch 4/50\n",
            "1563/1563 [==============================] - 297s 190ms/step - loss: 1.1787 - accuracy: 0.5878 - val_loss: 1.0742 - val_accuracy: 0.6307\n",
            "Epoch 5/50\n",
            "1563/1563 [==============================] - 294s 188ms/step - loss: 1.1181 - accuracy: 0.6114 - val_loss: 1.0766 - val_accuracy: 0.6262\n",
            "Epoch 6/50\n",
            "1563/1563 [==============================] - 297s 190ms/step - loss: 1.0823 - accuracy: 0.6265 - val_loss: 1.0789 - val_accuracy: 0.6204\n",
            "Epoch 7/50\n",
            "1563/1563 [==============================] - 297s 190ms/step - loss: 1.0491 - accuracy: 0.6373 - val_loss: 1.0441 - val_accuracy: 0.6389\n",
            "Epoch 8/50\n",
            "1563/1563 [==============================] - 297s 190ms/step - loss: 1.0277 - accuracy: 0.6467 - val_loss: 0.9976 - val_accuracy: 0.6572\n",
            "Epoch 9/50\n",
            "1563/1563 [==============================] - 298s 191ms/step - loss: 1.0060 - accuracy: 0.6560 - val_loss: 1.0217 - val_accuracy: 0.6477\n",
            "Epoch 10/50\n",
            "1563/1563 [==============================] - 297s 190ms/step - loss: 0.9850 - accuracy: 0.6623 - val_loss: 0.9743 - val_accuracy: 0.6673\n",
            "Epoch 11/50\n",
            "1563/1563 [==============================] - 299s 191ms/step - loss: 0.9653 - accuracy: 0.6674 - val_loss: 0.9502 - val_accuracy: 0.6754\n",
            "Epoch 12/50\n",
            "1563/1563 [==============================] - 298s 191ms/step - loss: 0.9500 - accuracy: 0.6745 - val_loss: 0.9326 - val_accuracy: 0.6795\n",
            "Epoch 13/50\n",
            "1563/1563 [==============================] - 307s 196ms/step - loss: 0.9386 - accuracy: 0.6788 - val_loss: 0.9457 - val_accuracy: 0.6751\n",
            "Epoch 14/50\n",
            "1563/1563 [==============================] - 299s 191ms/step - loss: 0.9210 - accuracy: 0.6834 - val_loss: 0.8983 - val_accuracy: 0.6950\n",
            "Epoch 15/50\n",
            "1563/1563 [==============================] - 298s 191ms/step - loss: 0.9053 - accuracy: 0.6881 - val_loss: 0.9006 - val_accuracy: 0.6940\n",
            "Epoch 16/50\n",
            "1563/1563 [==============================] - 298s 191ms/step - loss: 0.8963 - accuracy: 0.6924 - val_loss: 0.8839 - val_accuracy: 0.6946\n",
            "Epoch 17/50\n",
            "1563/1563 [==============================] - 300s 192ms/step - loss: 0.8819 - accuracy: 0.6955 - val_loss: 0.8619 - val_accuracy: 0.7078\n",
            "Epoch 18/50\n",
            "1563/1563 [==============================] - 299s 192ms/step - loss: 0.8711 - accuracy: 0.6995 - val_loss: 0.8486 - val_accuracy: 0.7081\n",
            "Epoch 19/50\n",
            "1563/1563 [==============================] - 300s 192ms/step - loss: 0.8578 - accuracy: 0.7018 - val_loss: 0.8424 - val_accuracy: 0.7141\n",
            "Epoch 20/50\n",
            "1563/1563 [==============================] - 302s 193ms/step - loss: 0.8401 - accuracy: 0.7097 - val_loss: 0.8296 - val_accuracy: 0.7155\n",
            "Epoch 21/50\n",
            "1563/1563 [==============================] - 302s 193ms/step - loss: 0.8290 - accuracy: 0.7126 - val_loss: 0.8083 - val_accuracy: 0.7227\n",
            "Epoch 22/50\n",
            "1563/1563 [==============================] - 303s 194ms/step - loss: 0.8179 - accuracy: 0.7190 - val_loss: 0.8216 - val_accuracy: 0.7195\n",
            "Epoch 23/50\n",
            "1563/1563 [==============================] - 304s 195ms/step - loss: 0.8052 - accuracy: 0.7225 - val_loss: 0.7890 - val_accuracy: 0.7316\n",
            "Epoch 24/50\n",
            "1563/1563 [==============================] - 304s 195ms/step - loss: 0.7878 - accuracy: 0.7292 - val_loss: 0.8236 - val_accuracy: 0.7121\n",
            "Epoch 25/50\n",
            "1563/1563 [==============================] - 308s 197ms/step - loss: 0.7760 - accuracy: 0.7317 - val_loss: 0.7765 - val_accuracy: 0.7349\n",
            "Epoch 26/50\n",
            "1563/1563 [==============================] - 306s 196ms/step - loss: 0.7628 - accuracy: 0.7358 - val_loss: 0.7489 - val_accuracy: 0.7432\n",
            "Epoch 27/50\n",
            "1563/1563 [==============================] - 307s 197ms/step - loss: 0.7503 - accuracy: 0.7408 - val_loss: 0.7527 - val_accuracy: 0.7376\n",
            "Epoch 28/50\n",
            "1563/1563 [==============================] - 307s 197ms/step - loss: 0.7439 - accuracy: 0.7411 - val_loss: 0.7299 - val_accuracy: 0.7476\n",
            "Epoch 29/50\n",
            "1563/1563 [==============================] - 304s 195ms/step - loss: 0.7265 - accuracy: 0.7461 - val_loss: 0.7395 - val_accuracy: 0.7471\n",
            "Epoch 30/50\n",
            "1563/1563 [==============================] - 331s 212ms/step - loss: 0.7124 - accuracy: 0.7523 - val_loss: 0.7278 - val_accuracy: 0.7494\n",
            "Epoch 31/50\n",
            "1563/1563 [==============================] - 316s 202ms/step - loss: 0.7046 - accuracy: 0.7563 - val_loss: 0.7262 - val_accuracy: 0.7520\n",
            "Epoch 32/50\n",
            "1563/1563 [==============================] - 305s 195ms/step - loss: 0.6883 - accuracy: 0.7616 - val_loss: 0.7253 - val_accuracy: 0.7515\n",
            "Epoch 33/50\n",
            "1563/1563 [==============================] - 307s 196ms/step - loss: 0.6765 - accuracy: 0.7648 - val_loss: 0.7017 - val_accuracy: 0.7615\n",
            "Epoch 34/50\n",
            "1563/1563 [==============================] - 306s 196ms/step - loss: 0.6656 - accuracy: 0.7698 - val_loss: 0.6819 - val_accuracy: 0.7670\n",
            "Epoch 35/50\n",
            "1563/1563 [==============================] - 306s 196ms/step - loss: 0.6589 - accuracy: 0.7732 - val_loss: 0.6903 - val_accuracy: 0.7660\n",
            "Epoch 36/50\n",
            "1563/1563 [==============================] - 304s 194ms/step - loss: 0.6380 - accuracy: 0.7772 - val_loss: 0.6857 - val_accuracy: 0.7691\n",
            "Epoch 37/50\n",
            "1563/1563 [==============================] - 304s 195ms/step - loss: 0.6276 - accuracy: 0.7813 - val_loss: 0.6675 - val_accuracy: 0.7756\n",
            "Epoch 38/50\n",
            "1563/1563 [==============================] - 305s 195ms/step - loss: 0.6208 - accuracy: 0.7833 - val_loss: 0.6673 - val_accuracy: 0.7748\n",
            "Epoch 39/50\n",
            "1563/1563 [==============================] - 306s 196ms/step - loss: 0.6077 - accuracy: 0.7876 - val_loss: 0.6601 - val_accuracy: 0.7751\n",
            "Epoch 40/50\n",
            "1563/1563 [==============================] - 306s 196ms/step - loss: 0.5997 - accuracy: 0.7923 - val_loss: 0.6443 - val_accuracy: 0.7793\n",
            "Epoch 41/50\n",
            "1563/1563 [==============================] - 305s 195ms/step - loss: 0.5872 - accuracy: 0.7965 - val_loss: 0.6698 - val_accuracy: 0.7703\n",
            "Epoch 42/50\n",
            "1563/1563 [==============================] - 306s 196ms/step - loss: 0.5799 - accuracy: 0.7985 - val_loss: 0.6406 - val_accuracy: 0.7848\n",
            "Epoch 43/50\n",
            "1563/1563 [==============================] - 306s 196ms/step - loss: 0.5701 - accuracy: 0.8018 - val_loss: 0.6403 - val_accuracy: 0.7849\n",
            "Epoch 44/50\n",
            "1563/1563 [==============================] - 304s 195ms/step - loss: 0.5573 - accuracy: 0.8069 - val_loss: 0.6675 - val_accuracy: 0.7735\n",
            "Epoch 45/50\n",
            "1563/1563 [==============================] - 304s 194ms/step - loss: 0.5496 - accuracy: 0.8093 - val_loss: 0.6577 - val_accuracy: 0.7789\n",
            "Epoch 46/50\n",
            "1563/1563 [==============================] - 305s 195ms/step - loss: 0.5393 - accuracy: 0.8142 - val_loss: 0.6566 - val_accuracy: 0.7795\n",
            "Epoch 47/50\n",
            "1563/1563 [==============================] - 305s 195ms/step - loss: 0.5351 - accuracy: 0.8150 - val_loss: 0.6292 - val_accuracy: 0.7900\n",
            "Epoch 48/50\n",
            "1563/1563 [==============================] - 304s 194ms/step - loss: 0.5200 - accuracy: 0.8206 - val_loss: 0.6739 - val_accuracy: 0.7767\n",
            "Epoch 49/50\n",
            "1563/1563 [==============================] - 302s 193ms/step - loss: 0.5132 - accuracy: 0.8215 - val_loss: 0.6193 - val_accuracy: 0.7919\n",
            "Epoch 50/50\n",
            "1563/1563 [==============================] - 304s 194ms/step - loss: 0.5031 - accuracy: 0.8253 - val_loss: 0.6410 - val_accuracy: 0.7882\n"
          ]
        }
      ]
    },
    {
      "cell_type": "code",
      "source": [
        "fig, axs = plt.subplots(1,2,figsize=(15,5)) \n",
        "axs[0].plot(elu_model1_history.history['accuracy'])\n",
        "axs[0].plot(elu_model1_history.history['val_accuracy'])\n",
        "axs[0].set_title('Model Accuracy')\n",
        "axs[0].set_xlabel('Epoch')\n",
        "axs[0].set_ylabel('Accuracy')\n",
        "axs[0].legend(['Training Accuracy', 'Validation Accuracy'])\n",
        "\n",
        "axs[1].plot(elu_model1_history.history['loss'])\n",
        "axs[1].plot(elu_model1_history.history['val_loss'])\n",
        "axs[1].set_title('Model Loss')\n",
        "axs[1].set_xlabel('Epoch')\n",
        "axs[1].set_ylabel('Loss')\n",
        "axs[1].legend(['Training Loss', 'Validation Loss'])\n",
        "\n",
        "plt.show()"
      ],
      "metadata": {
        "colab": {
          "base_uri": "https://localhost:8080/",
          "height": 350
        },
        "id": "Bm9TGMwoyr-g",
        "outputId": "48dbf92e-a09d-4fd6-f910-db4e8c791490"
      },
      "execution_count": null,
      "outputs": [
        {
          "output_type": "display_data",
          "data": {
            "text/plain": [
              "<Figure size 1080x360 with 2 Axes>"
            ],
            "image/png": "[encoded data removed]"
          },
          "metadata": {
            "needs_background": "light"
          }
        }
      ]
    },
    {
      "cell_type": "markdown",
      "source": [
        "**RMSProp is used with learning rate of 0.0001 and decay of 1e-6. ELU activation function performs good with this data.- 50 epochs are selected.**"
      ],
      "metadata": {
        "id": "bo08vPUxWcL3"
      }
    }
  ]
}