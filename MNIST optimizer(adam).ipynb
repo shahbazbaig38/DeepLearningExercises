{
  "nbformat": 4,
  "nbformat_minor": 0,
  "metadata": {
    "colab": {
      "provenance": []
    },
    "kernelspec": {
      "name": "python3",
      "display_name": "Python 3"
    },
    "language_info": {
      "name": "python"
    }
  },
  "cells": [
    {
      "cell_type": "markdown",
      "source": [
        "# Optimizer for MNIST"
      ],
      "metadata": {
        "id": "sf0IRpdRUT5y"
      }
    },
    {
      "cell_type": "code",
      "execution_count": null,
      "metadata": {
        "id": "gITFpYJ2JS6n"
      },
      "outputs": [],
      "source": [
        "# import relevant libraries\n",
        "import numpy as np\n",
        "import pandas as pd\n",
        "import matplotlib.pyplot as plt\n",
        "%matplotlib inline\n",
        "import seaborn as sns\n",
        "import keras\n",
        "from keras.datasets import mnist\n",
        "from keras.models import Sequential\n",
        "from keras.layers import Dense, Conv2D, Flatten"
      ]
    },
    {
      "cell_type": "code",
      "source": [
        "def load_data():\n",
        "  (train_samples,train_labels), (test_samples,test_labels) = mnist.load_data()\n",
        "  return train_samples, train_labels, test_samples, test_labels\n",
        "\n",
        "train_samples, train_labels, test_samples, test_labels = load_data()"
      ],
      "metadata": {
        "colab": {
          "base_uri": "https://localhost:8080/"
        },
        "id": "IL6OWlbeOk7V",
        "outputId": "b03ac126-c286-4c79-a078-b5d770b7e83c"
      },
      "execution_count": null,
      "outputs": [
        {
          "output_type": "stream",
          "name": "stdout",
          "text": [
            "Downloading data from https://storage.googleapis.com/tensorflow/tf-keras-datasets/mnist.npz\n",
            "11490434/11490434 [==============================] - 1s 0us/step\n"
          ]
        }
      ]
    },
    {
      "cell_type": "code",
      "source": [
        "# check the shape of the data\n",
        "print(train_samples.shape)\n",
        "print(train_labels.shape)\n",
        "print(test_samples.shape)\n",
        "print(test_labels.shape)"
      ],
      "metadata": {
        "colab": {
          "base_uri": "https://localhost:8080/"
        },
        "id": "VXh8VEy9OrxP",
        "outputId": "23c2c97c-0712-4d4c-f720-009625f00043"
      },
      "execution_count": null,
      "outputs": [
        {
          "output_type": "stream",
          "name": "stdout",
          "text": [
            "(60000, 28, 28)\n",
            "(60000,)\n",
            "(10000, 28, 28)\n",
            "(10000,)\n"
          ]
        }
      ]
    },
    {
      "cell_type": "code",
      "source": [
        "def convert_dtype(x):\n",
        "   \n",
        "    \n",
        "    x_float=x.astype('float32')\n",
        "    return x_float\n",
        "\n",
        "train_samples = convert_dtype(train_samples)\n",
        "test_samples = convert_dtype(test_samples)"
      ],
      "metadata": {
        "id": "j--9IVI6Ourm"
      },
      "execution_count": null,
      "outputs": []
    },
    {
      "cell_type": "code",
      "source": [
        "def normalize(x):\n",
        "  y = (x - np.min(x))/np.ptp(x)   #ptp function is used to find the range\n",
        "  return y\n",
        "\n",
        "train_samples = normalize(train_samples)\n",
        "test_samples = normalize(test_samples)"
      ],
      "metadata": {
        "id": "ZGhLbXBdOzt2"
      },
      "execution_count": null,
      "outputs": []
    },
    {
      "cell_type": "code",
      "source": [
        "# to check if train_samples is normalized or not\n",
        "np.isclose(np.amax(train_samples), 1)"
      ],
      "metadata": {
        "colab": {
          "base_uri": "https://localhost:8080/"
        },
        "id": "I5SxAkkLO3X9",
        "outputId": "52185e11-bee9-48c7-f9b6-2b59fdba9b4c"
      },
      "execution_count": null,
      "outputs": [
        {
          "output_type": "execute_result",
          "data": {
            "text/plain": [
              "True"
            ]
          },
          "metadata": {},
          "execution_count": 6
        }
      ]
    },
    {
      "cell_type": "code",
      "source": [
        "# We need to reshape our train_data to be of shape (samples, height, width, channels) pass to Conv2D layer of keras\n",
        "\n",
        "def reshape(x):\n",
        "    \n",
        "    \n",
        "    x_r=x.reshape(x.shape[0],x.shape[1],x.shape[2],1)\n",
        "    return x_r\n",
        "\n",
        "train_samples = reshape(train_samples)\n",
        "test_samples = reshape(test_samples)"
      ],
      "metadata": {
        "id": "L2lWtogrO6f3"
      },
      "execution_count": null,
      "outputs": []
    },
    {
      "cell_type": "code",
      "source": [
        "def oneHot(y, Ny):\n",
        "    \n",
        "    import tensorflow \n",
        "    from keras.utils import to_categorical\n",
        "    Ny=len(np.unique(y))\n",
        "    y_oh=to_categorical(y,num_classes=Ny)\n",
        "    return y_oh\n",
        "\n",
        "# example\n",
        "train_labels = oneHot(train_labels, 10)\n",
        "test_labels = oneHot(test_labels, 10)"
      ],
      "metadata": {
        "id": "DU1SU8QSO97Q"
      },
      "execution_count": null,
      "outputs": []
    },
    {
      "cell_type": "code",
      "source": [
        "import tensorflow as tf\n",
        "relu_model = Sequential()\n",
        "relu_model.add(Conv2D(64, kernel_size=3, activation='relu', input_shape=(28,28,1)))\n",
        "relu_model.add(Conv2D(32, kernel_size=3, activation='relu'))\n",
        "relu_model.add(Flatten())\n",
        "relu_model.add(Dense(10, activation='softmax'))\n",
        "relu_model.compile(loss='categorical_crossentropy', optimizer=tf.keras.optimizers.Adam(learning_rate= 0.01, decay= 1e-3), metrics=['accuracy'])\n",
        "relu_results = relu_model.fit(train_samples, train_labels, validation_split = 0.1, epochs=4, batch_size=64)"
      ],
      "metadata": {
        "colab": {
          "base_uri": "https://localhost:8080/"
        },
        "id": "pU71odLdPBnP",
        "outputId": "67822b83-03f4-4240-fa29-664bb25ae94d"
      },
      "execution_count": null,
      "outputs": [
        {
          "output_type": "stream",
          "name": "stdout",
          "text": [
            "Epoch 1/4\n",
            "844/844 [==============================] - 101s 119ms/step - loss: 0.1892 - accuracy: 0.9453 - val_loss: 0.0743 - val_accuracy: 0.9793\n",
            "Epoch 2/4\n",
            "844/844 [==============================] - 112s 133ms/step - loss: 0.0695 - accuracy: 0.9786 - val_loss: 0.0864 - val_accuracy: 0.9758\n",
            "Epoch 3/4\n",
            "844/844 [==============================] - 102s 121ms/step - loss: 0.0503 - accuracy: 0.9839 - val_loss: 0.0726 - val_accuracy: 0.9808\n",
            "Epoch 4/4\n",
            "844/844 [==============================] - 110s 130ms/step - loss: 0.0353 - accuracy: 0.9894 - val_loss: 0.0738 - val_accuracy: 0.9833\n"
          ]
        }
      ]
    },
    {
      "cell_type": "markdown",
      "source": [
        "**Adam optimizer with learning rate of 0.01 and decay of 1e-3 is providing good results for MNIST dataset as compared to other optimizers.**"
      ],
      "metadata": {
        "id": "Wr4tlhpBUiBU"
      }
    },
    {
      "cell_type": "code",
      "source": [
        "fig, axs = plt.subplots(1,2,figsize=(15,5)) \n",
        "axs[0].plot(relu_results.history['accuracy'])\n",
        "axs[0].plot(relu_results.history['val_accuracy'])\n",
        "axs[0].set_title('Model Accuracy')\n",
        "axs[0].set_xlabel('Epoch')\n",
        "axs[0].set_ylabel('Accuracy')\n",
        "axs[0].legend(['Training Accuracy', 'Validation Accuracy'])\n",
        "\n",
        "axs[1].plot(relu_results.history['loss'])\n",
        "axs[1].plot(relu_results.history['val_loss'])\n",
        "axs[1].set_title('Model Loss')\n",
        "axs[1].set_xlabel('Epoch')\n",
        "axs[1].set_ylabel('Loss')\n",
        "axs[1].legend(['Training Loss', 'Validation Loss'])\n",
        "\n",
        "plt.show()"
      ],
      "metadata": {
        "colab": {
          "base_uri": "https://localhost:8080/",
          "height": 350
        },
        "id": "Qipd30A3SLkM",
        "outputId": "3ac701dd-164e-4059-cd44-39d85be533b6"
      },
      "execution_count": null,
      "outputs": [
        {
          "output_type": "display_data",
          "data": {
            "text/plain": [
              "<Figure size 1080x360 with 2 Axes>"
            ],
            "image/png": "[encoded data removed]"
          },
          "metadata": {
            "needs_background": "light"
          }
        }
      ]
    }
  ]
}